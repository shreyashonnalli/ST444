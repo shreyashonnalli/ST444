{
 "cells": [
  {
   "cell_type": "code",
   "execution_count": 5,
   "id": "312d1049-2044-4fb8-9e8b-79e387126e7c",
   "metadata": {},
   "outputs": [],
   "source": [
    "import numpy as np\n",
    "from multiprocessing import Pool\n",
    "import time\n",
    "import matplotlib.pyplot as plt\n",
    "import pandas as pd\n",
    "import SGD_with_k_samples"
   ]
  },
  {
   "cell_type": "code",
   "execution_count": 7,
   "id": "f62e1b68-56b3-4e9b-acd3-03f906483eae",
   "metadata": {},
   "outputs": [],
   "source": [
    "# Loading the dataset\n",
    "dataframe = pd.read_excel('dataset1/dataset1.xlsx')\n",
    "\n",
    "X = dataframe['V'].sort_values()\n",
    "X = (X - X.mean()) / X.std()\n",
    "y = dataframe['AT'][X.index].values\n",
    "y = (y - y.mean()) / y.std()\n",
    "\n",
    "X = np.reshape(X.values, (-1, 1))\n",
    "\n",
    "def polynomial_basis_function_transformation(X, h):\n",
    "    powers = np.arange(h)\n",
    "    X_poly = np.power(X, powers)\n",
    "    return X_poly\n",
    "\n"
   ]
  },
  {
   "cell_type": "code",
   "execution_count": 9,
   "id": "bf421b1c-e02d-4717-8f17-8e173d2156f0",
   "metadata": {},
   "outputs": [],
   "source": [
    "def compute_gradient(args):\n",
    "    \"\"\"\n",
    "    Compute the gradient of the loss function for a mini-batch of data.\n",
    "    \"\"\"\n",
    "    X_batch, y_batch, alpha = args\n",
    "    X_poly = polynomial_basis_function_transformation(X_batch, 4)\n",
    "    m = len(y_batch)  # Mini-batch size\n",
    "    predictions = X_poly.dot(alpha)  # Linear regression predictions\n",
    "    errors = predictions - y_batch\n",
    "    gradient = (1 / m) * X_poly.T.dot(errors)\n",
    "    return gradient\n",
    "\n",
    "def parallel_sgd_with_k_samples(X, y, alpha, learning_rate, epochs, num_threads, k):\n",
    "    \"\"\"\n",
    "    Implements parallelized stochastic gradient descent with k samples.\n",
    "    \"\"\"\n",
    "    mse_history = []\n",
    "    time_taken = []\n",
    "    n_samples = len(y)\n",
    "    pool = Pool(processes=num_threads)  # Create a pool of workers\n",
    "    start_time = time.time()\n",
    "\n",
    "    for epoch in range(epochs):\n",
    "        \n",
    "        \n",
    "        # Shuffle data\n",
    "        indices = np.random.permutation(n_samples)\n",
    "        X_shuffled = X[indices]\n",
    "        y_shuffled = y[indices]\n",
    "        X_poly = polynomial_basis_function_transformation(X_shuffled, 4)\n",
    "\n",
    "        # Split data into mini-batches\n",
    "        mini_batches = [\n",
    "            (X_shuffled[i:i+k], y_shuffled[i:i+k], alpha)\n",
    "            for i in range(0, n_samples, k)\n",
    "        ]\n",
    "\n",
    "        # Compute gradients in parallel\n",
    "        gradients = pool.map(compute_gradient, mini_batches)\n",
    "\n",
    "        # Average the gradients across all threads\n",
    "        avg_gradient = np.mean(gradients, axis=0)\n",
    "\n",
    "        # Update parameters (alpha)\n",
    "        alpha -= learning_rate * avg_gradient\n",
    "\n",
    "        # Calculate MSE\n",
    "        mse = np.mean((X_poly.dot(alpha) - y) ** 2)  # MSE using the updated parameters\n",
    "        mse_history.append(mse)\n",
    "\n",
    "        # Calculate time taken for the epoch\n",
    "        end_time = time.time()\n",
    "        elapsed_time = end_time - start_time\n",
    "        time_taken.append(elapsed_time)\n",
    "\n",
    "\n",
    "\n",
    "    pool.close()\n",
    "    pool.join()\n",
    "    \n",
    "    return mse_history, time_taken\n"
   ]
  },
  {
   "cell_type": "code",
   "execution_count": 12,
   "id": "f3067daa-83c4-4304-b130-7c517537c61e",
   "metadata": {},
   "outputs": [],
   "source": [
    "alpha = np.random.rand(4)  # Initial model parameters\n",
    "\n",
    "# Hyperparameters\n",
    "learning_rate = 0.01\n",
    "epochs = 200\n",
    "num_threads = 1  # Number of threads\n",
    "k = 5  # Number of points each thread processes per batch\n",
    "\n",
    "\n"
   ]
  },
  {
   "cell_type": "code",
   "execution_count": null,
   "id": "a5bb71b8-70d0-4682-9061-1ecb313ad222",
   "metadata": {},
   "outputs": [],
   "source": []
  },
  {
   "cell_type": "code",
   "execution_count": 14,
   "id": "31171ccb-522f-47d3-8477-612c7ea66a2b",
   "metadata": {},
   "outputs": [
    {
     "data": {
      "image/png": "[encoded data removed]",
      "text/plain": [
       "<Figure size 640x480 with 1 Axes>"
      ]
     },
     "metadata": {},
     "output_type": "display_data"
    }
   ],
   "source": [
    "if __name__ == \"__main__\":\n",
    "    mse,time = SGD_with_k_samples.parallel_sgd_with_k_samples(X, y, alpha, learning_rate, epochs, num_threads, k)\n",
    "    plt.xlabel('Time in seconds')\n",
    "    plt.ylabel('MSE')\n",
    "    plt.title('SGD with k samples')\n",
    "    plt.plot(time,mse)"
   ]
  },
  {
   "cell_type": "code",
   "execution_count": 21,
   "id": "9b27a505-4bb2-4ba7-9dd3-3683c1f64ac4",
   "metadata": {},
   "outputs": [
    {
     "data": {
      "text/plain": [
       "[0.17746186256408691,\n",
       " 0.2821838855743408,\n",
       " 0.32320499420166016,\n",
       " 0.3516249656677246,\n",
       " 0.38213300704956055,\n",
       " 0.41309189796447754,\n",
       " 0.4439561367034912,\n",
       " 0.4722869396209717,\n",
       " 0.5059480667114258,\n",
       " 0.5390009880065918,\n",
       " 0.5723659992218018,\n",
       " 0.6050639152526855,\n",
       " 0.6388149261474609,\n",
       " 0.6724939346313477,\n",
       " 0.7042539119720459,\n",
       " 0.7483217716217041,\n",
       " 0.7849159240722656,\n",
       " 0.8240978717803955,\n",
       " 0.859893798828125,\n",
       " 0.893669843673706,\n",
       " 0.923090934753418,\n",
       " 0.956000804901123,\n",
       " 0.9901547431945801,\n",
       " 1.0222728252410889,\n",
       " 1.055299997329712,\n",
       " 1.088357925415039,\n",
       " 1.1341989040374756,\n",
       " 1.1779699325561523,\n",
       " 1.2289581298828125,\n",
       " 1.2752599716186523]"
      ]
     },
     "execution_count": 21,
     "metadata": {},
     "output_type": "execute_result"
    }
   ],
   "source": [
    "time"
   ]
  }
 ],
 "metadata": {
  "kernelspec": {
   "display_name": "Python [conda env:base] *",
   "language": "python",
   "name": "conda-base-py"
  },
  "language_info": {
   "codemirror_mode": {
    "name": "ipython",
    "version": 3
   },
   "file_extension": ".py",
   "mimetype": "text/x-python",
   "name": "python",
   "nbconvert_exporter": "python",
   "pygments_lexer": "ipython3",
   "version": "3.12.7"
  }
 },
 "nbformat": 4,
 "nbformat_minor": 5
}
