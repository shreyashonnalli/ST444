{
 "cells": [
  {
   "cell_type": "markdown",
   "id": "0d6002a5",
   "metadata": {},
   "source": [
    "# Stochastic Gradient Descent by Epoch"
   ]
  },
  {
   "cell_type": "markdown",
   "id": "0ff0ab9b",
   "metadata": {},
   "source": [
    "**Importing Libraries**"
   ]
  },
  {
   "cell_type": "code",
   "execution_count": 26,
   "id": "5b0c10ff",
   "metadata": {},
   "outputs": [],
   "source": [
    "from SGD_by_Epoch import shuffle_data, sgd_by_epoch_process\n",
    "from multiprocessing import Pool\n",
    "import numpy as np\n",
    "from sklearn.metrics import mean_squared_error\n",
    "from datetime import datetime\n",
    "import pandas as pd\n",
    "import matplotlib.pyplot as plt"
   ]
  },
  {
   "cell_type": "markdown",
   "id": "e3c3b684",
   "metadata": {},
   "source": [
    "**Importing Data**"
   ]
  },
  {
   "cell_type": "code",
   "execution_count": 15,
   "id": "7b4fcdc7",
   "metadata": {},
   "outputs": [],
   "source": [
    "dataframe = pd.read_excel('dataset1/dataset1.xlsx')\n",
    "\n",
    "X = dataframe['V'].sort_values()\n",
    "X = (X-X.mean()) / X.std()\n",
    "y = dataframe['AT'][X.index].values\n",
    "y = (y-y.mean()) / y.std()\n",
    "\n",
    "X = np.reshape(X.values, (-1,1))"
   ]
  },
  {
   "cell_type": "markdown",
   "id": "e1d7660d",
   "metadata": {},
   "source": [
    "**Defining Useful Functions**"
   ]
  },
  {
   "cell_type": "code",
   "execution_count": 16,
   "id": "b521f2c7",
   "metadata": {},
   "outputs": [],
   "source": [
    "def polynomial_basis_function_transformation(X, h):\n",
    "    \"\"\"\n",
    "    Converts an (N * 1) matrix into a (N * h) matrix, where h is the number of basis functions.\n",
    "    The degree of the polynomial is (h-1).\n",
    "\n",
    "    Parameters:\n",
    "    - X: (N * 1) matrix of input features.\n",
    "    - h: Number of basis functions (degree + 1).\n",
    "\n",
    "    Returns:\n",
    "    - X_poly: (N * h) matrix after applying polynomial basis functions.\n",
    "    \"\"\"\n",
    "    powers = np.arange(h)\n",
    "    X_poly = np.power(X, powers)\n",
    "    return X_poly"
   ]
  },
  {
   "cell_type": "markdown",
   "id": "cf50a6b8",
   "metadata": {},
   "source": [
    "### Methodology\n",
    "\n",
    "I will attempt to implement parallelization of SGD based on the Santos et al paper.\n",
    "\n",
    "**Procedure**\n",
    "\n",
    "- Shuffle the data once for each process\n",
    "\n",
    "- Carry out SGD independently for each process by going through shuffled list\n",
    "\n",
    "- Average results of all processes after each epoch"
   ]
  },
  {
   "cell_type": "code",
   "execution_count": 28,
   "id": "f1f6cfd7",
   "metadata": {},
   "outputs": [],
   "source": [
    "def sgd_by_epoch(X, y, h, alpha, n, t):\n",
    "    \"\"\"\n",
    "    Conducts Linear Regression using SGD with parallelization by epoch.\n",
    "    \"\"\"\n",
    "    start = datetime.now()\n",
    "    X_poly = polynomial_basis_function_transformation(X, h)\n",
    "    epoch_size = len(X_poly)\n",
    "    full_epochs = n // epoch_size\n",
    "\n",
    "    # Initialize shared weights for the first epoch\n",
    "    shared_weights = np.random.rand(h)\n",
    "\n",
    "    # Parallelize shuffling\n",
    "    with Pool(processes=t) as pool:\n",
    "        shuffled_data = pool.starmap(shuffle_data, [(X_poly, y) for _ in range(t)])\n",
    "\n",
    "    mse_history = []  # Track MSE for each epoch\n",
    "\n",
    "    for epoch in range(full_epochs):\n",
    "        epoch_start = datetime.now()\n",
    "\n",
    "        with Pool(processes=t) as pool:\n",
    "            outputs = pool.starmap(\n",
    "                sgd_by_epoch_process,\n",
    "                [(shuffled_data[i][0], shuffled_data[i][1], h, alpha, shared_weights) for i in range(t)]\n",
    "            )\n",
    "\n",
    "        shared_weights = np.mean(outputs, axis=0)\n",
    "\n",
    "        # Calculate MSE for the current epoch\n",
    "        y_hat_poly = X_poly @ shared_weights\n",
    "        mse = mean_squared_error(y, y_hat_poly)\n",
    "        mse_history.append(mse)\n",
    "\n",
    "        epoch_end = datetime.now()\n",
    "\n",
    "        print(f\"Epoch {epoch + 1}/{full_epochs}, MSE: {mse}, Time for Epoch: {epoch_end - epoch_start}\")\n",
    "\n",
    "    final_beta_hat = shared_weights\n",
    "    total_end = datetime.now()\n",
    "    print(f\"Total Time for Training: {total_end - start}\")\n",
    "\n",
    "    return mse_history\n",
    "\n",
    "def plot_mse_vs_epochs(X, y, h, alpha, n):\n",
    "    t_values = [1, 2, 3, 4, 8]  # List of `t` values\n",
    "    plt.figure(figsize=(10, 6))\n",
    "\n",
    "    for t in t_values:\n",
    "        mse_history = sgd_by_epoch(X, y, h, alpha, n, t)\n",
    "        plt.plot(range(1, len(mse_history) + 1), mse_history, label=f't={t}')\n",
    "\n",
    "    plt.xlabel('Epochs')\n",
    "    plt.ylabel('Mean Squared Error (MSE)')\n",
    "    plt.title('MSE vs Epochs for Different Number of Processes')\n",
    "    \n",
    "    # Set log scale for MSE (y-axis)\n",
    "    plt.yscale('log')\n",
    "\n",
    "    # Adding grid and legend\n",
    "    plt.legend()\n",
    "    plt.grid(True, which='both', linestyle='--', linewidth=0.5)\n",
    "    plt.xticks(np.arange(1, len(mse_history) + 1, 1))  # Ensure x-axis is integer and includes all epochs\n",
    "    plt.show()"
   ]
  },
  {
   "cell_type": "code",
   "execution_count": 29,
   "id": "bcce172c",
   "metadata": {},
   "outputs": [
    {
     "name": "stdout",
     "output_type": "stream",
     "text": [
      "Epoch 1/20, MSE: 0.2756592954052045, Time for Epoch: 0:00:00.509096\n",
      "Epoch 2/20, MSE: 0.27296417343472645, Time for Epoch: 0:00:00.555236\n",
      "Epoch 3/20, MSE: 0.2728343437151638, Time for Epoch: 0:00:00.492403\n",
      "Epoch 4/20, MSE: 0.2728248976211442, Time for Epoch: 0:00:00.489231\n",
      "Epoch 5/20, MSE: 0.272823937212169, Time for Epoch: 0:00:00.488992\n",
      "Epoch 6/20, MSE: 0.27282379104252236, Time for Epoch: 0:00:00.485778\n",
      "Epoch 7/20, MSE: 0.2728237606003873, Time for Epoch: 0:00:00.486664\n",
      "Epoch 8/20, MSE: 0.2728237532713468, Time for Epoch: 0:00:00.486639\n",
      "Epoch 9/20, MSE: 0.27282375141571247, Time for Epoch: 0:00:00.489818\n",
      "Epoch 10/20, MSE: 0.27282375093824585, Time for Epoch: 0:00:00.490188\n",
      "Epoch 11/20, MSE: 0.2728237508147441, Time for Epoch: 0:00:00.485747\n",
      "Epoch 12/20, MSE: 0.2728237507827416, Time for Epoch: 0:00:00.487092\n",
      "Epoch 13/20, MSE: 0.2728237507744435, Time for Epoch: 0:00:00.488250\n",
      "Epoch 14/20, MSE: 0.2728237507722913, Time for Epoch: 0:00:00.486717\n",
      "Epoch 15/20, MSE: 0.27282375077173304, Time for Epoch: 0:00:00.487700\n",
      "Epoch 16/20, MSE: 0.27282375077158827, Time for Epoch: 0:00:00.487717\n",
      "Epoch 17/20, MSE: 0.2728237507715507, Time for Epoch: 0:00:00.489646\n",
      "Epoch 18/20, MSE: 0.27282375077154103, Time for Epoch: 0:00:00.486789\n",
      "Epoch 19/20, MSE: 0.2728237507715385, Time for Epoch: 0:00:00.484001\n",
      "Epoch 20/20, MSE: 0.2728237507715378, Time for Epoch: 0:00:00.489412\n",
      "Total Time for Training: 0:00:10.330054\n",
      "Epoch 1/20, MSE: 0.27738690179864467, Time for Epoch: 0:00:00.503159\n",
      "Epoch 2/20, MSE: 0.27246329309249756, Time for Epoch: 0:00:00.507035\n",
      "Epoch 3/20, MSE: 0.2723043727212238, Time for Epoch: 0:00:00.502320\n",
      "Epoch 4/20, MSE: 0.2723357769857873, Time for Epoch: 0:00:00.503188\n",
      "Epoch 5/20, MSE: 0.2723486193251088, Time for Epoch: 0:00:00.501465\n",
      "Epoch 6/20, MSE: 0.27235223722419766, Time for Epoch: 0:00:00.511308\n",
      "Epoch 7/20, MSE: 0.27235318851049223, Time for Epoch: 0:00:00.510399\n",
      "Epoch 8/20, MSE: 0.27235343453275696, Time for Epoch: 0:00:00.502094\n",
      "Epoch 9/20, MSE: 0.2723534978925682, Time for Epoch: 0:00:00.502023\n",
      "Epoch 10/20, MSE: 0.27235351419241555, Time for Epoch: 0:00:00.503232\n",
      "Epoch 11/20, MSE: 0.27235351838451166, Time for Epoch: 0:00:00.506893\n",
      "Epoch 12/20, MSE: 0.2723535194625818, Time for Epoch: 0:00:00.504134\n",
      "Epoch 13/20, MSE: 0.2723535197398208, Time for Epoch: 0:00:00.502722\n",
      "Epoch 14/20, MSE: 0.27235351981111583, Time for Epoch: 0:00:00.504014\n",
      "Epoch 15/20, MSE: 0.2723535198294501, Time for Epoch: 0:00:00.509767\n",
      "Epoch 16/20, MSE: 0.272353519834165, Time for Epoch: 0:00:00.504811\n",
      "Epoch 17/20, MSE: 0.2723535198353774, Time for Epoch: 0:00:00.503910\n",
      "Epoch 18/20, MSE: 0.27235351983568923, Time for Epoch: 0:00:00.501861\n",
      "Epoch 19/20, MSE: 0.27235351983576944, Time for Epoch: 0:00:00.538296\n",
      "Epoch 20/20, MSE: 0.2723535198357901, Time for Epoch: 0:00:00.572518\n",
      "Total Time for Training: 0:00:10.656229\n",
      "Epoch 1/20, MSE: 0.27284783154879455, Time for Epoch: 0:00:00.538863\n",
      "Epoch 2/20, MSE: 0.27193503552653464, Time for Epoch: 0:00:00.540205\n",
      "Epoch 3/20, MSE: 0.2718869949458453, Time for Epoch: 0:00:00.549461\n",
      "Epoch 4/20, MSE: 0.27188558363042165, Time for Epoch: 0:00:00.542981\n",
      "Epoch 5/20, MSE: 0.27188591151378266, Time for Epoch: 0:00:00.554717\n",
      "Epoch 6/20, MSE: 0.2718860394804929, Time for Epoch: 0:00:00.545563\n",
      "Epoch 7/20, MSE: 0.2718860750543314, Time for Epoch: 0:00:00.532829\n",
      "Epoch 8/20, MSE: 0.2718860843494045, Time for Epoch: 0:00:00.542954\n",
      "Epoch 9/20, MSE: 0.2718860867447923, Time for Epoch: 0:00:00.534805\n",
      "Epoch 10/20, MSE: 0.271886087360251, Time for Epoch: 0:00:00.541343\n",
      "Epoch 11/20, MSE: 0.2718860875182976, Time for Epoch: 0:00:00.542880\n",
      "Epoch 12/20, MSE: 0.2718860875588815, Time for Epoch: 0:00:00.537727\n",
      "Epoch 13/20, MSE: 0.27188608756930316, Time for Epoch: 0:00:00.540372\n",
      "Epoch 14/20, MSE: 0.2718860875719794, Time for Epoch: 0:00:00.542715\n",
      "Epoch 15/20, MSE: 0.2718860875726667, Time for Epoch: 0:00:00.542043\n",
      "Epoch 16/20, MSE: 0.2718860875728432, Time for Epoch: 0:00:00.537930\n",
      "Epoch 17/20, MSE: 0.2718860875728885, Time for Epoch: 0:00:00.536491\n",
      "Epoch 18/20, MSE: 0.2718860875729001, Time for Epoch: 0:00:00.544166\n",
      "Epoch 19/20, MSE: 0.2718860875729031, Time for Epoch: 0:00:00.542970\n",
      "Epoch 20/20, MSE: 0.27188608757290395, Time for Epoch: 0:00:00.540887\n",
      "Total Time for Training: 0:00:11.371633\n",
      "Epoch 1/20, MSE: 0.2794862341333489, Time for Epoch: 0:00:00.567243\n",
      "Epoch 2/20, MSE: 0.2731544357620917, Time for Epoch: 0:00:00.568884\n",
      "Epoch 3/20, MSE: 0.2727776485594951, Time for Epoch: 0:00:00.568093\n",
      "Epoch 4/20, MSE: 0.2727447276679149, Time for Epoch: 0:00:00.563173\n",
      "Epoch 5/20, MSE: 0.27274029228088764, Time for Epoch: 0:00:00.569165\n",
      "Epoch 6/20, MSE: 0.27273942104489834, Time for Epoch: 0:00:00.562828\n",
      "Epoch 7/20, MSE: 0.27273921551892394, Time for Epoch: 0:00:00.571541\n",
      "Epoch 8/20, MSE: 0.27273916398583326, Time for Epoch: 0:00:00.573922\n",
      "Epoch 9/20, MSE: 0.2727391508342469, Time for Epoch: 0:00:00.571803\n",
      "Epoch 10/20, MSE: 0.2727391474610048, Time for Epoch: 0:00:00.567072\n",
      "Epoch 11/20, MSE: 0.27273914659453696, Time for Epoch: 0:00:00.568790\n",
      "Epoch 12/20, MSE: 0.2727391463718716, Time for Epoch: 0:00:00.591544\n",
      "Epoch 13/20, MSE: 0.2727391463146424, Time for Epoch: 0:00:00.569031\n",
      "Epoch 14/20, MSE: 0.2727391462999327, Time for Epoch: 0:00:00.570935\n",
      "Epoch 15/20, MSE: 0.27273914629615176, Time for Epoch: 0:00:00.569621\n",
      "Epoch 16/20, MSE: 0.27273914629517987, Time for Epoch: 0:00:00.565342\n",
      "Epoch 17/20, MSE: 0.27273914629493007, Time for Epoch: 0:00:00.568579\n",
      "Epoch 18/20, MSE: 0.27273914629486584, Time for Epoch: 0:00:00.574505\n",
      "Epoch 19/20, MSE: 0.27273914629484936, Time for Epoch: 0:00:00.566544\n",
      "Epoch 20/20, MSE: 0.2727391462948451, Time for Epoch: 0:00:00.567908\n",
      "Total Time for Training: 0:00:11.924847\n",
      "Epoch 1/20, MSE: 0.2737683825258628, Time for Epoch: 0:00:00.927817\n",
      "Epoch 2/20, MSE: 0.2720275540690487, Time for Epoch: 0:00:00.937175\n",
      "Epoch 3/20, MSE: 0.2719243083146196, Time for Epoch: 0:00:00.933241\n",
      "Epoch 4/20, MSE: 0.2719174505105265, Time for Epoch: 0:00:00.952051\n",
      "Epoch 5/20, MSE: 0.27191693564902475, Time for Epoch: 0:00:00.928332\n",
      "Epoch 6/20, MSE: 0.2719168831608316, Time for Epoch: 0:00:00.938281\n",
      "Epoch 7/20, MSE: 0.27191687466761855, Time for Epoch: 0:00:00.950496\n",
      "Epoch 8/20, MSE: 0.2719168727804923, Time for Epoch: 0:00:00.949066\n",
      "Epoch 9/20, MSE: 0.2719168723104825, Time for Epoch: 0:00:00.961007\n",
      "Epoch 10/20, MSE: 0.2719168721900109, Time for Epoch: 0:00:00.950865\n",
      "Epoch 11/20, MSE: 0.2719168721589563, Time for Epoch: 0:00:00.968981\n",
      "Epoch 12/20, MSE: 0.2719168721509462, Time for Epoch: 0:00:00.949131\n",
      "Epoch 13/20, MSE: 0.27191687214888044, Time for Epoch: 0:00:00.948998\n",
      "Epoch 14/20, MSE: 0.27191687214834787, Time for Epoch: 0:00:00.977076\n",
      "Epoch 15/20, MSE: 0.27191687214821053, Time for Epoch: 0:00:00.977632\n",
      "Epoch 16/20, MSE: 0.2719168721481751, Time for Epoch: 0:00:00.971970\n",
      "Epoch 17/20, MSE: 0.271916872148166, Time for Epoch: 0:00:00.967570\n",
      "Epoch 18/20, MSE: 0.2719168721481637, Time for Epoch: 0:00:00.978023\n",
      "Epoch 19/20, MSE: 0.2719168721481631, Time for Epoch: 0:00:01.002551\n",
      "Epoch 20/20, MSE: 0.2719168721481629, Time for Epoch: 0:00:00.975193\n",
      "Total Time for Training: 0:00:19.983990\n"
     ]
    },
    {
     "data": {
      "image/png": "[encoded data removed]",
      "text/plain": [
       "<Figure size 720x432 with 1 Axes>"
      ]
     },
     "metadata": {
      "needs_background": "light"
     },
     "output_type": "display_data"
    }
   ],
   "source": [
    "plot_mse_vs_epochs(X, y, 4, 0.001, 200000)"
   ]
  },
  {
   "cell_type": "code",
   "execution_count": null,
   "id": "b0ff5299",
   "metadata": {},
   "outputs": [],
   "source": []
  }
 ],
 "metadata": {
  "kernelspec": {
   "display_name": "Python 3",
   "language": "python",
   "name": "python3"
  },
  "language_info": {
   "codemirror_mode": {
    "name": "ipython",
    "version": 3
   },
   "file_extension": ".py",
   "mimetype": "text/x-python",
   "name": "python",
   "nbconvert_exporter": "python",
   "pygments_lexer": "ipython3",
   "version": "3.8.5"
  }
 },
 "nbformat": 4,
 "nbformat_minor": 5
}
